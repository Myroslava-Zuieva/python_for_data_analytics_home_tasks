{
 "cells": [
  {
   "cell_type": "markdown",
   "id": "5b1cae7d",
   "metadata": {
    "id": "5b1cae7d"
   },
   "source": [
    "1.Задане значення у змінній var. Перетворіть значення в змінній var на цілочисельне, запишіть в нову змінну `var_int` та виведіть тип нової змінної `var_int`."
   ]
  },
  {
   "cell_type": "code",
   "execution_count": 1,
   "id": "d93f77ed",
   "metadata": {
    "ExecuteTime": {
     "end_time": "2023-06-13T11:52:35.489925Z",
     "start_time": "2023-06-13T11:52:35.487238Z"
    },
    "id": "d93f77ed"
   },
   "outputs": [],
   "source": [
    "var = '1224'"
   ]
  },
  {
   "cell_type": "code",
   "execution_count": 4,
   "id": "5a4afe8f",
   "metadata": {
    "id": "5a4afe8f"
   },
   "outputs": [
    {
     "data": {
      "text/plain": [
       "int"
      ]
     },
     "execution_count": 4,
     "metadata": {},
     "output_type": "execute_result"
    }
   ],
   "source": [
    "var_int = int(var)\n",
    "type(var_int)"
   ]
  },
  {
   "cell_type": "markdown",
   "id": "eb3d19d8",
   "metadata": {
    "ExecuteTime": {
     "end_time": "2023-06-13T13:00:19.611699Z",
     "start_time": "2023-06-13T13:00:19.607737Z"
    },
    "id": "eb3d19d8"
   },
   "source": [
    "2.У Вас є список слів. Виведіть кожне третє слово в списку."
   ]
  },
  {
   "cell_type": "code",
   "execution_count": 17,
   "id": "477f4ced",
   "metadata": {
    "ExecuteTime": {
     "end_time": "2023-06-13T13:00:02.052801Z",
     "start_time": "2023-06-13T13:00:02.048798Z"
    },
    "id": "477f4ced"
   },
   "outputs": [],
   "source": [
    "words = [\"apple\", \"banana\", \"cherry\", \"date\", \"elderberry\", \"fig\", \"grape\", \"honeydew\", \"ice cream\", \"jackfruit\", \"kiwi\", \"lemon\", \"mango\", \"nectarine\", \"orange\", \"pineapple\", \"quince\", \"raspberry\", \"strawberry\", \"tangerine\", \"ugli fruit\", \"vanilla\", \"watermelon\", \"xigua\", \"yam\", \"zucchini\"]"
   ]
  },
  {
   "cell_type": "code",
   "execution_count": 12,
   "id": "1b73ca2f",
   "metadata": {
    "id": "1b73ca2f"
   },
   "outputs": [
    {
     "name": "stdout",
     "output_type": "stream",
     "text": [
      "cherry\n",
      "fig\n",
      "ice cream\n",
      "lemon\n",
      "orange\n",
      "raspberry\n",
      "ugli fruit\n",
      "xigua\n"
     ]
    }
   ],
   "source": [
    "every_third_word = words[2::3]\n",
    "for word in every_third_word:\n",
    "    print(word)"
   ]
  },
  {
   "cell_type": "markdown",
   "id": "394d1dea",
   "metadata": {
    "id": "394d1dea"
   },
   "source": [
    "3.Скільки всього СЛІВ у списку `words`?"
   ]
  },
  {
   "cell_type": "code",
   "execution_count": 15,
   "id": "83c88182",
   "metadata": {
    "id": "83c88182"
   },
   "outputs": [
    {
     "name": "stdout",
     "output_type": "stream",
     "text": [
      "26\n"
     ]
    }
   ],
   "source": [
    "number_of_the_words = len(words)\n",
    "print(number_of_the_words)"
   ]
  },
  {
   "cell_type": "markdown",
   "id": "703d1620",
   "metadata": {
    "ExecuteTime": {
     "end_time": "2023-06-13T13:03:17.414285Z",
     "start_time": "2023-06-13T13:03:17.409285Z"
    },
    "id": "703d1620"
   },
   "source": [
    "4.Скільки всього ЛІТЕР в усіх словах у списку words?"
   ]
  },
  {
   "cell_type": "code",
   "execution_count": 20,
   "id": "c44d04d9",
   "metadata": {
    "id": "c44d04d9"
   },
   "outputs": [
    {
     "name": "stdout",
     "output_type": "stream",
     "text": [
      "178\n"
     ]
    }
   ],
   "source": [
    "number_of_characters = 0\n",
    "for word in words:\n",
    "    number_of_characters += len(word.replace(\" \", \"\"))\n",
    "print(number_of_characters)"
   ]
  },
  {
   "cell_type": "markdown",
   "id": "4c95f6a3",
   "metadata": {
    "id": "4c95f6a3"
   },
   "source": [
    "5.Скільки разів зустрічається кожна літера в усіх словах списку `words`? Відсортуйте літери в результуючому словнику за алфавітним порядком."
   ]
  },
  {
   "cell_type": "code",
   "execution_count": 36,
   "id": "f6cff6cb",
   "metadata": {
    "id": "f6cff6cb"
   },
   "outputs": [
    {
     "data": {
      "text/plain": [
       "{' ': 2,\n",
       " 'a': 20,\n",
       " 'b': 4,\n",
       " 'c': 8,\n",
       " 'd': 3,\n",
       " 'e': 24,\n",
       " 'f': 3,\n",
       " 'g': 7,\n",
       " 'h': 3,\n",
       " 'i': 15,\n",
       " 'j': 1,\n",
       " 'k': 2,\n",
       " 'l': 8,\n",
       " 'm': 5,\n",
       " 'n': 15,\n",
       " 'o': 5,\n",
       " 'p': 7,\n",
       " 'q': 1,\n",
       " 'r': 19,\n",
       " 's': 2,\n",
       " 't': 7,\n",
       " 'u': 6,\n",
       " 'v': 1,\n",
       " 'w': 4,\n",
       " 'x': 1,\n",
       " 'y': 6,\n",
       " 'z': 1}"
      ]
     },
     "execution_count": 36,
     "metadata": {},
     "output_type": "execute_result"
    }
   ],
   "source": [
    "letter_count = {}\n",
    "for word in words:\n",
    "    for letter in word:\n",
    "        if letter in letter_count:\n",
    "            letter_count[letter] += 1\n",
    "        else:\n",
    "            letter_count[letter] = 1\n",
    "sorted_letter_count = dict(sorted(letter_count.items()))\n",
    "sorted_letter_count"
   ]
  },
  {
   "cell_type": "markdown",
   "id": "94d9f1cc",
   "metadata": {
    "id": "94d9f1cc"
   },
   "source": [
    "Очікуваний результат:\n",
    "```\n",
    "{' ': 2,\n",
    " 'a': 20,\n",
    " 'b': 4,\n",
    " 'c': 8,\n",
    " 'd': 3,\n",
    " 'e': 24,\n",
    " 'f': 3,\n",
    " 'g': 7,\n",
    " 'h': 3,\n",
    " 'i': 15,\n",
    " 'j': 1,\n",
    " 'k': 2,\n",
    " 'l': 8,\n",
    " 'm': 5,\n",
    " 'n': 15,\n",
    " 'o': 5,\n",
    " 'p': 7,\n",
    " 'q': 1,\n",
    " 'r': 19,\n",
    " 's': 2,\n",
    " 't': 7,\n",
    " 'u': 6,\n",
    " 'v': 1,\n",
    " 'w': 4,\n",
    " 'x': 1,\n",
    " 'y': 6,\n",
    " 'z': 1}\n",
    " ```"
   ]
  },
  {
   "cell_type": "markdown",
   "id": "c93ac384",
   "metadata": {
    "id": "c93ac384"
   },
   "source": [
    "6.Використовуючи результат виконання попереднього завдання, виведіть на екран ту літеру, яка зустрічається найчастіше і скільки разів вона зустрічається. Це треба зробити програмно, а не просто подививщись на дані :)"
   ]
  },
  {
   "cell_type": "code",
   "execution_count": 37,
   "id": "9ddfb851",
   "metadata": {
    "id": "9ddfb851"
   },
   "outputs": [
    {
     "name": "stdout",
     "output_type": "stream",
     "text": [
      "24\n"
     ]
    }
   ],
   "source": [
    "most_common_letter = None\n",
    "highest_count = 0\n",
    "for letter, count in sorted_letter_count.items():\n",
    "     if count > highest_count:\n",
    "        most_common_letter = letter\n",
    "        highest_count = count\n",
    "print(highest_count)"
   ]
  },
  {
   "cell_type": "markdown",
   "id": "f40adbed",
   "metadata": {
    "id": "f40adbed"
   },
   "source": [
    "7.Для кожного елементу списку виведіть тип елемену. Якщо тип обʼєкту - int (тільки цей тип безпосередньо!), виведіть результат піднесення цього числа до степеню 5."
   ]
  },
  {
   "cell_type": "code",
   "execution_count": 38,
   "id": "f92249ac",
   "metadata": {
    "ExecuteTime": {
     "end_time": "2023-06-13T12:53:04.365735Z",
     "start_time": "2023-06-13T12:53:04.362441Z"
    },
    "id": "f92249ac"
   },
   "outputs": [],
   "source": [
    "elements = [12, 'type', 'Bob', True, 'False', 1.414, 1444.333, 123/33, 5]"
   ]
  },
  {
   "cell_type": "code",
   "execution_count": 39,
   "id": "96b72186",
   "metadata": {
    "id": "96b72186"
   },
   "outputs": [
    {
     "name": "stdout",
     "output_type": "stream",
     "text": [
      "Елемент: 12, Тип: <class 'int'>\n",
      "Результат піднесення 12 до степеню 5: 248832\n",
      "Елемент: type, Тип: <class 'str'>\n",
      "Елемент: Bob, Тип: <class 'str'>\n",
      "Елемент: True, Тип: <class 'bool'>\n",
      "Елемент: False, Тип: <class 'str'>\n",
      "Елемент: 1.414, Тип: <class 'float'>\n",
      "Елемент: 1444.333, Тип: <class 'float'>\n",
      "Елемент: 3.727272727272727, Тип: <class 'float'>\n",
      "Елемент: 5, Тип: <class 'int'>\n",
      "Результат піднесення 5 до степеню 5: 3125\n"
     ]
    }
   ],
   "source": [
    "for element in elements:\n",
    "    element_type = type(element)\n",
    "    print(f\"Елемент: {element}, Тип: {element_type}\")\n",
    "    if element_type == int:\n",
    "        result = element ** 5\n",
    "        print(f\"Результат піднесення {element} до степеню 5: {result}\")"
   ]
  },
  {
   "cell_type": "markdown",
   "id": "cf2247c7",
   "metadata": {
    "ExecuteTime": {
     "end_time": "2023-06-13T12:55:17.795510Z",
     "start_time": "2023-06-13T12:55:17.787158Z"
    },
    "id": "cf2247c7"
   },
   "source": [
    "Приклад очікуваного результату (текстові коментарі і форматування можуть бути іншими):\n",
    "```\n",
    "    The type of element 12 is <class 'int'>\n",
    "    This is a number! Let't take it to power 5! The result is: 248832\n",
    "    The type of element type is <class 'str'>\n",
    "    The type of element Bob is <class 'str'>\n",
    "    The type of element True is <class 'bool'>\n",
    "    The type of element False is <class 'str'>\n",
    "    The type of element 1.414 is <class 'float'>\n",
    "    The type of element 1444.333 is <class 'float'>\n",
    "    The type of element 3.727272727272727 is <class 'float'>\n",
    "    The type of element 5 is <class 'int'>\n",
    "    This is a number! Let't take it to power 5! The result is: 3125\n",
    "```"
   ]
  },
  {
   "cell_type": "markdown",
   "id": "76a0bef2",
   "metadata": {
    "id": "76a0bef2"
   },
   "source": [
    "8.Створіть програму, яка:\n",
    "\n",
    "- Для визначених значень `name` та `age` друкує повідомлення \"Привіт, [Ім’я] ! Вам [Вік] років.\".\n",
    "- Обчислює, скільки років залишилося користувачеві до 100 років, і друкує повідомлення з цією інформацією: \"До 100 років Вам лишилось [Число] років.\"  \n",
    "\n",
    "Запустіть програму для набору користувачів нижче."
   ]
  },
  {
   "cell_type": "code",
   "execution_count": 40,
   "id": "0092963a",
   "metadata": {
    "ExecuteTime": {
     "end_time": "2023-06-13T12:30:11.462941Z",
     "start_time": "2023-06-13T12:30:11.459673Z"
    },
    "id": "0092963a"
   },
   "outputs": [],
   "source": [
    "users = [\n",
    "    ['Karl', 30],\n",
    "    ['Klara', 15],\n",
    "    ['Alexis', 56],\n",
    "    ['Charles', 99]\n",
    "]"
   ]
  },
  {
   "cell_type": "code",
   "execution_count": 41,
   "id": "8d6d820e",
   "metadata": {
    "id": "8d6d820e"
   },
   "outputs": [
    {
     "name": "stdout",
     "output_type": "stream",
     "text": [
      "Привіт, Karl! Вам 30 років.\n",
      "До 100 років Вам лишилось 70 років.\n",
      "\n",
      "Привіт, Klara! Вам 15 років.\n",
      "До 100 років Вам лишилось 85 років.\n",
      "\n",
      "Привіт, Alexis! Вам 56 років.\n",
      "До 100 років Вам лишилось 44 років.\n",
      "\n",
      "Привіт, Charles! Вам 99 років.\n",
      "До 100 років Вам лишилось 1 років.\n",
      "\n"
     ]
    }
   ],
   "source": [
    "for user in users:\n",
    "    name = user[0]\n",
    "    age = user[1]\n",
    "    print(f\"Привіт, {name}! Вам {age} років.\")\n",
    "    years_to_100 = 100 - age\n",
    "    print(f\"До 100 років Вам лишилось {years_to_100} років.\")\n",
    "    print()"
   ]
  },
  {
   "cell_type": "markdown",
   "id": "45fedbc4",
   "metadata": {
    "id": "45fedbc4"
   },
   "source": [
    "9.Напишть фрагмент коду, який перевіряє, чи слово є паліндромом. Слово (або фраза) є паліндромом, якщо при читанні його зворотньому напрямі буде таке саме слово.\n",
    "Наприклад, слово \"radar\" є паліндромом, але \"radix\" не є паліндромом. Код в кінці має видавати результат True або False.  \n",
    "Код має звертати увагу лише на символи-літери. Регістр літер не має значення, а знаки пунктуації (кома, крапка) та `-+=/\\`` мають бути вилучені з рядка перед перевіркою. Так само, пробіли не впливають на визначення,чи слово є палендромом. Мають значення лише літери.\n",
    "Тобто рядки \"A mam, a\" та \"A mamA\" є паліндромами, а \"AmamU\" - ні.\n",
    "\n",
    "Опціонально ви можете розмістити код на перевірку чи є слово паліндромом у фукнцію.\n",
    "Запустіть свій код для рядків з набору нижче і виведіть результат перевірки на екран для кожного рядка."
   ]
  },
  {
   "cell_type": "code",
   "execution_count": 42,
   "id": "4cca3eed",
   "metadata": {
    "ExecuteTime": {
     "end_time": "2023-06-13T12:24:02.288183Z",
     "start_time": "2023-06-13T12:24:02.285245Z"
    },
    "id": "4cca3eed"
   },
   "outputs": [],
   "source": [
    "phrases_to_check = [\n",
    "    'radar',\n",
    "    'radix',\n",
    "    'A mam, a',\n",
    "    'A mamA',\n",
    "    'Sit on a potato pan Otis',\n",
    "    'Taco cat.',\n",
    "    'Taco cat',\n",
    "    'Tornado',\n",
    "    \"Go hang a salami, I'm a lasagna hog.\"\n",
    "]"
   ]
  },
  {
   "cell_type": "code",
   "execution_count": 44,
   "id": "becbec3c",
   "metadata": {
    "id": "becbec3c"
   },
   "outputs": [
    {
     "name": "stdout",
     "output_type": "stream",
     "text": [
      "Фраза 'radar' є паліндромом: True\n",
      "Фраза 'radix' є паліндромом: False\n",
      "Фраза 'A mam, a' є паліндромом: True\n",
      "Фраза 'A mamA' є паліндромом: True\n",
      "Фраза 'Sit on a potato pan Otis' є паліндромом: True\n",
      "Фраза 'Taco cat.' є паліндромом: True\n",
      "Фраза 'Taco cat' є паліндромом: True\n",
      "Фраза 'Tornado' є паліндромом: False\n",
      "Фраза 'Go hang a salami, I'm a lasagna hog.' є паліндромом: True\n"
     ]
    }
   ],
   "source": [
    "def is_palindrome(phrase):\n",
    "    cleaned_frase = ''.join(char.lower() for char in phrase if char.isalpha())\n",
    "    return cleaned_frase == cleaned_frase[::-1]\n",
    "for phrase in phrases_to_check:\n",
    "    result = is_palindrome(phrase)\n",
    "    print(f\"Фраза '{phrase}' є паліндромом: {result}\")"
   ]
  },
  {
   "cell_type": "markdown",
   "id": "e51c421d",
   "metadata": {
    "id": "e51c421d"
   },
   "source": [
    "Очкувані результати обчислень:\n",
    "```\n",
    "    radar - True\n",
    "    radix - False\n",
    "    A mam, a - True\n",
    "    A mamA - True\n",
    "    Sit on a potato pan Otis - True\n",
    "    Taco cat. - True\n",
    "    Taco cat - True\n",
    "    Tornado - False\n",
    "    Go hang a salami, I'm a lasagna hog. - True\n",
    "```"
   ]
  }
 ],
 "metadata": {
  "colab": {
   "provenance": []
  },
  "kernelspec": {
   "display_name": "Python 3 (ipykernel)",
   "language": "python",
   "name": "python3"
  },
  "language_info": {
   "codemirror_mode": {
    "name": "ipython",
    "version": 3
   },
   "file_extension": ".py",
   "mimetype": "text/x-python",
   "name": "python",
   "nbconvert_exporter": "python",
   "pygments_lexer": "ipython3",
   "version": "3.12.0"
  },
  "toc": {
   "base_numbering": 1,
   "nav_menu": {},
   "number_sections": true,
   "sideBar": true,
   "skip_h1_title": false,
   "title_cell": "Table of Contents",
   "title_sidebar": "Contents",
   "toc_cell": false,
   "toc_position": {},
   "toc_section_display": true,
   "toc_window_display": false
  }
 },
 "nbformat": 4,
 "nbformat_minor": 5
}
