{
 "cells": [
  {
   "cell_type": "markdown",
   "id": "e152f6d6",
   "metadata": {
    "ExecuteTime": {
     "end_time": "2022-12-10T14:29:24.703416Z",
     "start_time": "2022-12-10T14:29:24.688485Z"
    },
    "id": "e152f6d6"
   },
   "source": [
    "## Домашнє завдання 6: Статистичні тести"
   ]
  },
  {
   "cell_type": "markdown",
   "id": "cd404683",
   "metadata": {
    "id": "cd404683"
   },
   "source": [
    "0. Зчитайте дані з `data.csv` та запишіть значення колонки data у форматі np.ndarray в змінну data. Ми будемо далі працювати з цією змінною."
   ]
  },
  {
   "cell_type": "code",
   "execution_count": 14,
   "id": "a8M1Xqa3hInl",
   "metadata": {
    "id": "a8M1Xqa3hInl"
   },
   "outputs": [],
   "source": [
    "import pandas as pd\n",
    "import numpy as np\n",
    "data_path = 'Python_study/data/data_statistics/data.csv'\n",
    "df = pd.read_csv(data_path)\n",
    "data = df['data'].values"
   ]
  },
  {
   "cell_type": "markdown",
   "id": "3d06cbbf",
   "metadata": {
    "id": "3d06cbbf"
   },
   "source": [
    "Запустіть код нижче. Для коректної робити всіх подальших методів дані мають бути у вигляді одновимірного вектора, тобто мати розмір (100,)."
   ]
  },
  {
   "cell_type": "code",
   "execution_count": 9,
   "id": "Rc_cM9TfhJYI",
   "metadata": {
    "id": "Rc_cM9TfhJYI"
   },
   "outputs": [
    {
     "data": {
      "text/plain": [
       "(100,)"
      ]
     },
     "execution_count": 9,
     "metadata": {},
     "output_type": "execute_result"
    }
   ],
   "source": [
    "data.shape"
   ]
  },
  {
   "cell_type": "markdown",
   "id": "abdcef5d",
   "metadata": {
    "id": "abdcef5d"
   },
   "source": [
    "1. Зчитані дані - це сума покупок в доларах наших покупців на сайті протягом липня 2022 року.\n",
    "\n",
    "До цього місяця, ми мали продажі в середньому на чек $20. Чи вийшло у нас статистично значущо **підвищити** середній чек за останній місяць?\n",
    "\n",
    "Оберіть статистичний тест (z-test чи t-test). Виведіть p-значення статистичного тесту та зробіть висновок, чи ми маємо зараз статистично значущу різницю у розмірі середнього чеку.\n",
    "\n",
    "**Підказка**: тут тест буде одновибірковий."
   ]
  },
  {
   "cell_type": "markdown",
   "id": "7c23f265-db48-4fc2-a778-70f9d3a79e04",
   "metadata": {},
   "source": [
    "Для порівняння середнього чеку за липень із середнім значенням до цього місяця ($20), найкраще використати t-тест для однієї вибірки (one-sample t-test). \n",
    "\n",
    "Я використала t-тест, оскільки не знаю істинного стандартного відхилення генеральної сукупності.\n",
    "\n",
    "Н0 (нульова гіпотеза): Середній чек за липень дорівнює $20.\n",
    "\n",
    "Н1 (альтернативна гіпотеза): Середній чек за липень більший за $20.\n",
    "\n",
    "Обчислення p-значення: Якщо p-значення менше за стандартний рівень значущості (0.05), можна вважати, що середній чек підвищився."
   ]
  },
  {
   "cell_type": "code",
   "execution_count": 11,
   "id": "XhxcSbYqhLz9",
   "metadata": {
    "id": "XhxcSbYqhLz9"
   },
   "outputs": [
    {
     "name": "stdout",
     "output_type": "stream",
     "text": [
      "t-статистика: -0.9953477389335053\n",
      "p-значення: 0.3219937839011988\n",
      "Статистично значущої різниці між середніми чеками немає.\n"
     ]
    }
   ],
   "source": [
    "from scipy import stats\n",
    "\n",
    "current_data = data\n",
    "mean_prior = 20\n",
    "\n",
    "t_stat, p_value = stats.ttest_1samp(current_data, mean_prior)\n",
    "\n",
    "print(\"t-статистика:\", t_stat)\n",
    "print(\"p-значення:\", p_value)\n",
    "\n",
    "if p_value < 0.05:\n",
    "    print(\"Існує статистично значуща різниця між середніми чеками.\")\n",
    "else:\n",
    "    print(\"Статистично значущої різниці між середніми чеками немає.\")"
   ]
  },
  {
   "cell_type": "markdown",
   "id": "05219e41",
   "metadata": {
    "ExecuteTime": {
     "end_time": "2022-12-10T14:52:46.140204Z",
     "start_time": "2022-12-10T14:52:46.112068Z"
    },
    "id": "05219e41"
   },
   "source": [
    "2. Пройшов час, і ми зібрали дані про продажі за серпень 2022 року, які зберігли у файл `data_2.csv`. Продажів було дещо більше, але чи змінився стат. значущо середній чек порівняно з липнем 2022? Перевірте це використовуючи ztest.\n",
    "\n",
    "  Виведіть p-значення статистичного тесту та зробіть висновок, чи ми маємо зараз статистично значущу різницю у розмірі середнього чека між двома місяцями.\n",
    "\n",
    "  **Підказка**: треба провести двовибірковий ztest з Н0 - що середні значення в липні та серпні 2022 року - однакові. Для кращого розуміння ситуації, можливо вам буде цікаво переглянути, які середні показники чеку були в кожен з місяців. Порівняйте свій висновок з простого спостереження середніх значень і висновок статистичного тесту. Чи вони збігаються?"
   ]
  },
  {
   "cell_type": "code",
   "execution_count": 16,
   "id": "1b5d1eb8-1949-4775-b215-48f564332827",
   "metadata": {},
   "outputs": [
    {
     "name": "stdout",
     "output_type": "stream",
     "text": [
      "Collecting statsmodels\n",
      "  Downloading statsmodels-0.14.4-cp312-cp312-macosx_11_0_arm64.whl.metadata (9.2 kB)\n",
      "Requirement already satisfied: numpy<3,>=1.22.3 in /opt/anaconda3/envs/py312/lib/python3.12/site-packages (from statsmodels) (1.26.4)\n",
      "Requirement already satisfied: scipy!=1.9.2,>=1.8 in /opt/anaconda3/envs/py312/lib/python3.12/site-packages (from statsmodels) (1.14.1)\n",
      "Requirement already satisfied: pandas!=2.1.0,>=1.4 in /opt/anaconda3/envs/py312/lib/python3.12/site-packages (from statsmodels) (2.2.2)\n",
      "Collecting patsy>=0.5.6 (from statsmodels)\n",
      "  Downloading patsy-0.5.6-py2.py3-none-any.whl.metadata (3.5 kB)\n",
      "Requirement already satisfied: packaging>=21.3 in /opt/anaconda3/envs/py312/lib/python3.12/site-packages (from statsmodels) (24.1)\n",
      "Requirement already satisfied: python-dateutil>=2.8.2 in /opt/anaconda3/envs/py312/lib/python3.12/site-packages (from pandas!=2.1.0,>=1.4->statsmodels) (2.9.0.post0)\n",
      "Requirement already satisfied: pytz>=2020.1 in /opt/anaconda3/envs/py312/lib/python3.12/site-packages (from pandas!=2.1.0,>=1.4->statsmodels) (2024.1)\n",
      "Requirement already satisfied: tzdata>=2022.7 in /opt/anaconda3/envs/py312/lib/python3.12/site-packages (from pandas!=2.1.0,>=1.4->statsmodels) (2023.3)\n",
      "Requirement already satisfied: six in /opt/anaconda3/envs/py312/lib/python3.12/site-packages (from patsy>=0.5.6->statsmodels) (1.16.0)\n",
      "Downloading statsmodels-0.14.4-cp312-cp312-macosx_11_0_arm64.whl (9.9 MB)\n",
      "\u001b[2K   \u001b[90m━━━━━━━━━━━━━━━━━━━━━━━━━━━━━━━━━━━━━━━━\u001b[0m \u001b[32m9.9/9.9 MB\u001b[0m \u001b[31m4.4 MB/s\u001b[0m eta \u001b[36m0:00:00\u001b[0ma \u001b[36m0:00:01\u001b[0m\n",
      "\u001b[?25hDownloading patsy-0.5.6-py2.py3-none-any.whl (233 kB)\n",
      "Installing collected packages: patsy, statsmodels\n",
      "Successfully installed patsy-0.5.6 statsmodels-0.14.4\n"
     ]
    }
   ],
   "source": [
    "!pip install statsmodels"
   ]
  },
  {
   "cell_type": "code",
   "execution_count": 21,
   "id": "hbs7LPI4hP-6",
   "metadata": {
    "id": "hbs7LPI4hP-6"
   },
   "outputs": [
    {
     "name": "stdout",
     "output_type": "stream",
     "text": [
      "Середній чек за липень 2022: 19.37755319670441\n",
      "Середній чек за серпень 2022: 19.37322276512519\n",
      "z-статистика: 0.005246673456808504\n",
      "p-значення: 0.9958137794593356\n",
      "Статистично значущої різниці між середніми чеками у липні та серпні немає.\n"
     ]
    }
   ],
   "source": [
    "from statsmodels.stats.weightstats import ztest\n",
    "\n",
    "data_july = data\n",
    "data_path_2 = 'Python_study/data/data_statistics/data_2.csv'\n",
    "data_august = pd.read_csv(data_path_2)['data'].values\n",
    "\n",
    "mean_july = np.mean(data_july)\n",
    "mean_august = np.mean(data_august)\n",
    "\n",
    "print(\"Середній чек за липень 2022:\", mean_july)\n",
    "print(\"Середній чек за серпень 2022:\", mean_august)\n",
    "\n",
    "z_stat, p_value = ztest(data_july, data_august)\n",
    "\n",
    "print(\"z-статистика:\", z_stat)\n",
    "print(\"p-значення:\", p_value)\n",
    "\n",
    "if p_value < 0.05:\n",
    "    print(\"Є статистично значуща різниця між середніми чеками у липні та серпні.\")\n",
    "else:\n",
    "    print(\"Статистично значущої різниці між середніми чеками у липні та серпні немає.\")"
   ]
  }
 ],
 "metadata": {
  "colab": {
   "provenance": []
  },
  "hide_input": false,
  "kernelspec": {
   "display_name": "Python 3 (ipykernel)",
   "language": "python",
   "name": "python3"
  },
  "language_info": {
   "codemirror_mode": {
    "name": "ipython",
    "version": 3
   },
   "file_extension": ".py",
   "mimetype": "text/x-python",
   "name": "python",
   "nbconvert_exporter": "python",
   "pygments_lexer": "ipython3",
   "version": "3.12.4"
  },
  "toc": {
   "base_numbering": 1,
   "nav_menu": {},
   "number_sections": true,
   "sideBar": true,
   "skip_h1_title": false,
   "title_cell": "Table of Contents",
   "title_sidebar": "Contents",
   "toc_cell": false,
   "toc_position": {},
   "toc_section_display": true,
   "toc_window_display": false
  },
  "varInspector": {
   "cols": {
    "lenName": 16,
    "lenType": 16,
    "lenVar": 40
   },
   "kernels_config": {
    "python": {
     "delete_cmd_postfix": "",
     "delete_cmd_prefix": "del ",
     "library": "var_list.py",
     "varRefreshCmd": "print(var_dic_list())"
    },
    "r": {
     "delete_cmd_postfix": ") ",
     "delete_cmd_prefix": "rm(",
     "library": "var_list.r",
     "varRefreshCmd": "cat(var_dic_list()) "
    }
   },
   "types_to_exclude": [
    "module",
    "function",
    "builtin_function_or_method",
    "instance",
    "_Feature"
   ],
   "window_display": false
  }
 },
 "nbformat": 4,
 "nbformat_minor": 5
}
