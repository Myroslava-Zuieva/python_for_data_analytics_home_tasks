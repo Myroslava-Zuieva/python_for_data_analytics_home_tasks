{
 "cells": [
  {
   "cell_type": "markdown",
   "metadata": {
    "id": "olyuwbpjrmvn"
   },
   "source": [
    "# Домашнє завдання до теми \"Основи роботи з даними у Pandas\""
   ]
  },
  {
   "cell_type": "markdown",
   "metadata": {
    "id": "vP2PEJyq8Yrj"
   },
   "source": [
    "В цьому домашньому завданні продовжуємо працювати з набором даних `supermarket_sales.csv`."
   ]
  },
  {
   "cell_type": "markdown",
   "metadata": {
    "id": "dh9lfpDb8gBL"
   },
   "source": [
    "0. Імпортуйте бібліотеку pandas та зчитайте дані у змінну `df` типу `pandas.DataFrame`."
   ]
  },
  {
   "cell_type": "code",
   "execution_count": 1,
   "metadata": {
    "id": "xBI9gJMK8qnl"
   },
   "outputs": [],
   "source": [
    "import pandas as pd"
   ]
  },
  {
   "cell_type": "code",
   "execution_count": 8,
   "metadata": {
    "id": "xBI9gJMK8qnl"
   },
   "outputs": [],
   "source": [
    "data_path = 'Python_study/data/supermarket_sales.csv'\n",
    "df = pd.read_csv(data_path)"
   ]
  },
  {
   "cell_type": "markdown",
   "metadata": {
    "ExecuteTime": {
     "end_time": "2021-09-20T19:44:56.499824Z",
     "start_time": "2021-09-20T19:44:56.496923Z"
    },
    "id": "ca064875"
   },
   "source": [
    "1. За допомогою бібліотеки Pandas виведіть перші 4 і останні 4 записи у наборі даних (це дві окремі команди). Треба саме 4! Не 5."
   ]
  },
  {
   "cell_type": "code",
   "execution_count": 9,
   "metadata": {
    "ExecuteTime": {
     "end_time": "2021-12-08T18:46:42.601691Z",
     "start_time": "2021-12-08T18:46:42.570962Z"
    },
    "id": "d095f26b"
   },
   "outputs": [
    {
     "data": {
      "text/html": [
       "<div>\n",
       "<style scoped>\n",
       "    .dataframe tbody tr th:only-of-type {\n",
       "        vertical-align: middle;\n",
       "    }\n",
       "\n",
       "    .dataframe tbody tr th {\n",
       "        vertical-align: top;\n",
       "    }\n",
       "\n",
       "    .dataframe thead th {\n",
       "        text-align: right;\n",
       "    }\n",
       "</style>\n",
       "<table border=\"1\" class=\"dataframe\">\n",
       "  <thead>\n",
       "    <tr style=\"text-align: right;\">\n",
       "      <th></th>\n",
       "      <th>Invoice ID</th>\n",
       "      <th>Branch</th>\n",
       "      <th>City</th>\n",
       "      <th>Customer type</th>\n",
       "      <th>Gender</th>\n",
       "      <th>Product line</th>\n",
       "      <th>Unit price</th>\n",
       "      <th>Quantity</th>\n",
       "      <th>Tax 5%</th>\n",
       "      <th>Total</th>\n",
       "      <th>Date</th>\n",
       "      <th>Time</th>\n",
       "      <th>Payment</th>\n",
       "      <th>cogs</th>\n",
       "      <th>gross margin percentage</th>\n",
       "      <th>gross income</th>\n",
       "      <th>Rating</th>\n",
       "    </tr>\n",
       "  </thead>\n",
       "  <tbody>\n",
       "    <tr>\n",
       "      <th>0</th>\n",
       "      <td>750-67-8428</td>\n",
       "      <td>A</td>\n",
       "      <td>Yangon</td>\n",
       "      <td>Member</td>\n",
       "      <td>Female</td>\n",
       "      <td>Health and beauty</td>\n",
       "      <td>74.69</td>\n",
       "      <td>7</td>\n",
       "      <td>26.1415</td>\n",
       "      <td>548.9715</td>\n",
       "      <td>1/5/2019</td>\n",
       "      <td>13:08</td>\n",
       "      <td>Ewallet</td>\n",
       "      <td>522.83</td>\n",
       "      <td>4.761905</td>\n",
       "      <td>26.1415</td>\n",
       "      <td>9.1</td>\n",
       "    </tr>\n",
       "    <tr>\n",
       "      <th>1</th>\n",
       "      <td>226-31-3081</td>\n",
       "      <td>C</td>\n",
       "      <td>Naypyitaw</td>\n",
       "      <td>Normal</td>\n",
       "      <td>Female</td>\n",
       "      <td>Electronic accessories</td>\n",
       "      <td>15.28</td>\n",
       "      <td>5</td>\n",
       "      <td>3.8200</td>\n",
       "      <td>80.2200</td>\n",
       "      <td>3/8/2019</td>\n",
       "      <td>10:29</td>\n",
       "      <td>Cash</td>\n",
       "      <td>76.40</td>\n",
       "      <td>4.761905</td>\n",
       "      <td>3.8200</td>\n",
       "      <td>9.6</td>\n",
       "    </tr>\n",
       "    <tr>\n",
       "      <th>2</th>\n",
       "      <td>631-41-3108</td>\n",
       "      <td>A</td>\n",
       "      <td>Yangon</td>\n",
       "      <td>Normal</td>\n",
       "      <td>Male</td>\n",
       "      <td>Home and lifestyle</td>\n",
       "      <td>46.33</td>\n",
       "      <td>7</td>\n",
       "      <td>16.2155</td>\n",
       "      <td>340.5255</td>\n",
       "      <td>3/3/2019</td>\n",
       "      <td>13:23</td>\n",
       "      <td>Credit card</td>\n",
       "      <td>324.31</td>\n",
       "      <td>4.761905</td>\n",
       "      <td>16.2155</td>\n",
       "      <td>7.4</td>\n",
       "    </tr>\n",
       "    <tr>\n",
       "      <th>3</th>\n",
       "      <td>123-19-1176</td>\n",
       "      <td>A</td>\n",
       "      <td>Yangon</td>\n",
       "      <td>Member</td>\n",
       "      <td>Male</td>\n",
       "      <td>Health and beauty</td>\n",
       "      <td>58.22</td>\n",
       "      <td>8</td>\n",
       "      <td>23.2880</td>\n",
       "      <td>489.0480</td>\n",
       "      <td>1/27/2019</td>\n",
       "      <td>20:33</td>\n",
       "      <td>Ewallet</td>\n",
       "      <td>465.76</td>\n",
       "      <td>4.761905</td>\n",
       "      <td>23.2880</td>\n",
       "      <td>8.4</td>\n",
       "    </tr>\n",
       "  </tbody>\n",
       "</table>\n",
       "</div>"
      ],
      "text/plain": [
       "    Invoice ID Branch       City Customer type  Gender  \\\n",
       "0  750-67-8428      A     Yangon        Member  Female   \n",
       "1  226-31-3081      C  Naypyitaw        Normal  Female   \n",
       "2  631-41-3108      A     Yangon        Normal    Male   \n",
       "3  123-19-1176      A     Yangon        Member    Male   \n",
       "\n",
       "             Product line  Unit price  Quantity   Tax 5%     Total       Date  \\\n",
       "0       Health and beauty       74.69         7  26.1415  548.9715   1/5/2019   \n",
       "1  Electronic accessories       15.28         5   3.8200   80.2200   3/8/2019   \n",
       "2      Home and lifestyle       46.33         7  16.2155  340.5255   3/3/2019   \n",
       "3       Health and beauty       58.22         8  23.2880  489.0480  1/27/2019   \n",
       "\n",
       "    Time      Payment    cogs  gross margin percentage  gross income  Rating  \n",
       "0  13:08      Ewallet  522.83                 4.761905       26.1415     9.1  \n",
       "1  10:29         Cash   76.40                 4.761905        3.8200     9.6  \n",
       "2  13:23  Credit card  324.31                 4.761905       16.2155     7.4  \n",
       "3  20:33      Ewallet  465.76                 4.761905       23.2880     8.4  "
      ]
     },
     "execution_count": 9,
     "metadata": {},
     "output_type": "execute_result"
    }
   ],
   "source": [
    "df.head(4)"
   ]
  },
  {
   "cell_type": "code",
   "execution_count": 10,
   "metadata": {
    "ExecuteTime": {
     "end_time": "2021-12-08T18:46:42.601691Z",
     "start_time": "2021-12-08T18:46:42.570962Z"
    },
    "id": "d095f26b"
   },
   "outputs": [
    {
     "data": {
      "text/html": [
       "<div>\n",
       "<style scoped>\n",
       "    .dataframe tbody tr th:only-of-type {\n",
       "        vertical-align: middle;\n",
       "    }\n",
       "\n",
       "    .dataframe tbody tr th {\n",
       "        vertical-align: top;\n",
       "    }\n",
       "\n",
       "    .dataframe thead th {\n",
       "        text-align: right;\n",
       "    }\n",
       "</style>\n",
       "<table border=\"1\" class=\"dataframe\">\n",
       "  <thead>\n",
       "    <tr style=\"text-align: right;\">\n",
       "      <th></th>\n",
       "      <th>Invoice ID</th>\n",
       "      <th>Branch</th>\n",
       "      <th>City</th>\n",
       "      <th>Customer type</th>\n",
       "      <th>Gender</th>\n",
       "      <th>Product line</th>\n",
       "      <th>Unit price</th>\n",
       "      <th>Quantity</th>\n",
       "      <th>Tax 5%</th>\n",
       "      <th>Total</th>\n",
       "      <th>Date</th>\n",
       "      <th>Time</th>\n",
       "      <th>Payment</th>\n",
       "      <th>cogs</th>\n",
       "      <th>gross margin percentage</th>\n",
       "      <th>gross income</th>\n",
       "      <th>Rating</th>\n",
       "    </tr>\n",
       "  </thead>\n",
       "  <tbody>\n",
       "    <tr>\n",
       "      <th>996</th>\n",
       "      <td>303-96-2227</td>\n",
       "      <td>B</td>\n",
       "      <td>Mandalay</td>\n",
       "      <td>Normal</td>\n",
       "      <td>Female</td>\n",
       "      <td>Home and lifestyle</td>\n",
       "      <td>97.38</td>\n",
       "      <td>10</td>\n",
       "      <td>48.690</td>\n",
       "      <td>1022.490</td>\n",
       "      <td>3/2/2019</td>\n",
       "      <td>17:16</td>\n",
       "      <td>Ewallet</td>\n",
       "      <td>973.80</td>\n",
       "      <td>4.761905</td>\n",
       "      <td>48.690</td>\n",
       "      <td>4.4</td>\n",
       "    </tr>\n",
       "    <tr>\n",
       "      <th>997</th>\n",
       "      <td>727-02-1313</td>\n",
       "      <td>A</td>\n",
       "      <td>Yangon</td>\n",
       "      <td>Member</td>\n",
       "      <td>Male</td>\n",
       "      <td>Food and beverages</td>\n",
       "      <td>31.84</td>\n",
       "      <td>1</td>\n",
       "      <td>1.592</td>\n",
       "      <td>33.432</td>\n",
       "      <td>2/9/2019</td>\n",
       "      <td>13:22</td>\n",
       "      <td>Cash</td>\n",
       "      <td>31.84</td>\n",
       "      <td>4.761905</td>\n",
       "      <td>1.592</td>\n",
       "      <td>7.7</td>\n",
       "    </tr>\n",
       "    <tr>\n",
       "      <th>998</th>\n",
       "      <td>347-56-2442</td>\n",
       "      <td>A</td>\n",
       "      <td>Yangon</td>\n",
       "      <td>Normal</td>\n",
       "      <td>Male</td>\n",
       "      <td>Home and lifestyle</td>\n",
       "      <td>65.82</td>\n",
       "      <td>1</td>\n",
       "      <td>3.291</td>\n",
       "      <td>69.111</td>\n",
       "      <td>2/22/2019</td>\n",
       "      <td>15:33</td>\n",
       "      <td>Cash</td>\n",
       "      <td>65.82</td>\n",
       "      <td>4.761905</td>\n",
       "      <td>3.291</td>\n",
       "      <td>4.1</td>\n",
       "    </tr>\n",
       "    <tr>\n",
       "      <th>999</th>\n",
       "      <td>849-09-3807</td>\n",
       "      <td>A</td>\n",
       "      <td>Yangon</td>\n",
       "      <td>Member</td>\n",
       "      <td>Female</td>\n",
       "      <td>Fashion accessories</td>\n",
       "      <td>88.34</td>\n",
       "      <td>7</td>\n",
       "      <td>30.919</td>\n",
       "      <td>649.299</td>\n",
       "      <td>2/18/2019</td>\n",
       "      <td>13:28</td>\n",
       "      <td>Cash</td>\n",
       "      <td>618.38</td>\n",
       "      <td>4.761905</td>\n",
       "      <td>30.919</td>\n",
       "      <td>6.6</td>\n",
       "    </tr>\n",
       "  </tbody>\n",
       "</table>\n",
       "</div>"
      ],
      "text/plain": [
       "      Invoice ID Branch      City Customer type  Gender         Product line  \\\n",
       "996  303-96-2227      B  Mandalay        Normal  Female   Home and lifestyle   \n",
       "997  727-02-1313      A    Yangon        Member    Male   Food and beverages   \n",
       "998  347-56-2442      A    Yangon        Normal    Male   Home and lifestyle   \n",
       "999  849-09-3807      A    Yangon        Member  Female  Fashion accessories   \n",
       "\n",
       "     Unit price  Quantity  Tax 5%     Total       Date   Time  Payment  \\\n",
       "996       97.38        10  48.690  1022.490   3/2/2019  17:16  Ewallet   \n",
       "997       31.84         1   1.592    33.432   2/9/2019  13:22     Cash   \n",
       "998       65.82         1   3.291    69.111  2/22/2019  15:33     Cash   \n",
       "999       88.34         7  30.919   649.299  2/18/2019  13:28     Cash   \n",
       "\n",
       "       cogs  gross margin percentage  gross income  Rating  \n",
       "996  973.80                 4.761905        48.690     4.4  \n",
       "997   31.84                 4.761905         1.592     7.7  \n",
       "998   65.82                 4.761905         3.291     4.1  \n",
       "999  618.38                 4.761905        30.919     6.6  "
      ]
     },
     "execution_count": 10,
     "metadata": {},
     "output_type": "execute_result"
    }
   ],
   "source": [
    "df.tail(4)"
   ]
  },
  {
   "cell_type": "markdown",
   "metadata": {
    "ExecuteTime": {
     "end_time": "2022-11-01T16:50:46.961201Z",
     "start_time": "2022-11-01T16:50:46.955894Z"
    },
    "id": "3e4c4fb3"
   },
   "source": [
    "Очікуваний результат:"
   ]
  },
  {
   "cell_type": "markdown",
   "metadata": {
    "id": "f037ac2b"
   },
   "source": [
    "![](https://drive.google.com/uc?export=view&id=1F5XlzBOOTMsedpsYqz6NnXjIPTDe6jpx)"
   ]
  },
  {
   "cell_type": "markdown",
   "metadata": {
    "id": "167fuYhB_nCP"
   },
   "source": [
    "2. Виведіть рядки даних з індексами з 615 по 619 включно."
   ]
  },
  {
   "cell_type": "code",
   "execution_count": 11,
   "metadata": {
    "id": "ytZryG8Z_1f_"
   },
   "outputs": [
    {
     "data": {
      "text/html": [
       "<div>\n",
       "<style scoped>\n",
       "    .dataframe tbody tr th:only-of-type {\n",
       "        vertical-align: middle;\n",
       "    }\n",
       "\n",
       "    .dataframe tbody tr th {\n",
       "        vertical-align: top;\n",
       "    }\n",
       "\n",
       "    .dataframe thead th {\n",
       "        text-align: right;\n",
       "    }\n",
       "</style>\n",
       "<table border=\"1\" class=\"dataframe\">\n",
       "  <thead>\n",
       "    <tr style=\"text-align: right;\">\n",
       "      <th></th>\n",
       "      <th>Invoice ID</th>\n",
       "      <th>Branch</th>\n",
       "      <th>City</th>\n",
       "      <th>Customer type</th>\n",
       "      <th>Gender</th>\n",
       "      <th>Product line</th>\n",
       "      <th>Unit price</th>\n",
       "      <th>Quantity</th>\n",
       "      <th>Tax 5%</th>\n",
       "      <th>Total</th>\n",
       "      <th>Date</th>\n",
       "      <th>Time</th>\n",
       "      <th>Payment</th>\n",
       "      <th>cogs</th>\n",
       "      <th>gross margin percentage</th>\n",
       "      <th>gross income</th>\n",
       "      <th>Rating</th>\n",
       "    </tr>\n",
       "  </thead>\n",
       "  <tbody>\n",
       "    <tr>\n",
       "      <th>615</th>\n",
       "      <td>509-29-3912</td>\n",
       "      <td>A</td>\n",
       "      <td>Yangon</td>\n",
       "      <td>Member</td>\n",
       "      <td>Female</td>\n",
       "      <td>Sports and travel</td>\n",
       "      <td>38.72</td>\n",
       "      <td>9</td>\n",
       "      <td>17.4240</td>\n",
       "      <td>365.9040</td>\n",
       "      <td>3/20/2019</td>\n",
       "      <td>12:24</td>\n",
       "      <td>Ewallet</td>\n",
       "      <td>348.48</td>\n",
       "      <td>4.761905</td>\n",
       "      <td>17.4240</td>\n",
       "      <td>4.2</td>\n",
       "    </tr>\n",
       "    <tr>\n",
       "      <th>616</th>\n",
       "      <td>327-40-9673</td>\n",
       "      <td>B</td>\n",
       "      <td>Mandalay</td>\n",
       "      <td>Member</td>\n",
       "      <td>Male</td>\n",
       "      <td>Sports and travel</td>\n",
       "      <td>72.60</td>\n",
       "      <td>6</td>\n",
       "      <td>21.7800</td>\n",
       "      <td>457.3800</td>\n",
       "      <td>1/13/2019</td>\n",
       "      <td>19:51</td>\n",
       "      <td>Cash</td>\n",
       "      <td>435.60</td>\n",
       "      <td>4.761905</td>\n",
       "      <td>21.7800</td>\n",
       "      <td>6.9</td>\n",
       "    </tr>\n",
       "    <tr>\n",
       "      <th>617</th>\n",
       "      <td>840-19-2096</td>\n",
       "      <td>C</td>\n",
       "      <td>Naypyitaw</td>\n",
       "      <td>Member</td>\n",
       "      <td>Male</td>\n",
       "      <td>Electronic accessories</td>\n",
       "      <td>87.91</td>\n",
       "      <td>5</td>\n",
       "      <td>21.9775</td>\n",
       "      <td>461.5275</td>\n",
       "      <td>3/14/2019</td>\n",
       "      <td>18:10</td>\n",
       "      <td>Ewallet</td>\n",
       "      <td>439.55</td>\n",
       "      <td>4.761905</td>\n",
       "      <td>21.9775</td>\n",
       "      <td>4.4</td>\n",
       "    </tr>\n",
       "    <tr>\n",
       "      <th>618</th>\n",
       "      <td>828-46-6863</td>\n",
       "      <td>A</td>\n",
       "      <td>Yangon</td>\n",
       "      <td>Member</td>\n",
       "      <td>Male</td>\n",
       "      <td>Food and beverages</td>\n",
       "      <td>98.53</td>\n",
       "      <td>6</td>\n",
       "      <td>29.5590</td>\n",
       "      <td>620.7390</td>\n",
       "      <td>1/23/2019</td>\n",
       "      <td>11:22</td>\n",
       "      <td>Credit card</td>\n",
       "      <td>591.18</td>\n",
       "      <td>4.761905</td>\n",
       "      <td>29.5590</td>\n",
       "      <td>4.0</td>\n",
       "    </tr>\n",
       "    <tr>\n",
       "      <th>619</th>\n",
       "      <td>641-96-3695</td>\n",
       "      <td>C</td>\n",
       "      <td>Naypyitaw</td>\n",
       "      <td>Member</td>\n",
       "      <td>Female</td>\n",
       "      <td>Fashion accessories</td>\n",
       "      <td>43.46</td>\n",
       "      <td>6</td>\n",
       "      <td>13.0380</td>\n",
       "      <td>273.7980</td>\n",
       "      <td>2/7/2019</td>\n",
       "      <td>17:55</td>\n",
       "      <td>Ewallet</td>\n",
       "      <td>260.76</td>\n",
       "      <td>4.761905</td>\n",
       "      <td>13.0380</td>\n",
       "      <td>8.5</td>\n",
       "    </tr>\n",
       "  </tbody>\n",
       "</table>\n",
       "</div>"
      ],
      "text/plain": [
       "      Invoice ID Branch       City Customer type  Gender  \\\n",
       "615  509-29-3912      A     Yangon        Member  Female   \n",
       "616  327-40-9673      B   Mandalay        Member    Male   \n",
       "617  840-19-2096      C  Naypyitaw        Member    Male   \n",
       "618  828-46-6863      A     Yangon        Member    Male   \n",
       "619  641-96-3695      C  Naypyitaw        Member  Female   \n",
       "\n",
       "               Product line  Unit price  Quantity   Tax 5%     Total  \\\n",
       "615       Sports and travel       38.72         9  17.4240  365.9040   \n",
       "616       Sports and travel       72.60         6  21.7800  457.3800   \n",
       "617  Electronic accessories       87.91         5  21.9775  461.5275   \n",
       "618      Food and beverages       98.53         6  29.5590  620.7390   \n",
       "619     Fashion accessories       43.46         6  13.0380  273.7980   \n",
       "\n",
       "          Date   Time      Payment    cogs  gross margin percentage  \\\n",
       "615  3/20/2019  12:24      Ewallet  348.48                 4.761905   \n",
       "616  1/13/2019  19:51         Cash  435.60                 4.761905   \n",
       "617  3/14/2019  18:10      Ewallet  439.55                 4.761905   \n",
       "618  1/23/2019  11:22  Credit card  591.18                 4.761905   \n",
       "619   2/7/2019  17:55      Ewallet  260.76                 4.761905   \n",
       "\n",
       "     gross income  Rating  \n",
       "615       17.4240     4.2  \n",
       "616       21.7800     6.9  \n",
       "617       21.9775     4.4  \n",
       "618       29.5590     4.0  \n",
       "619       13.0380     8.5  "
      ]
     },
     "execution_count": 11,
     "metadata": {},
     "output_type": "execute_result"
    }
   ],
   "source": [
    "df[615:620]"
   ]
  },
  {
   "cell_type": "markdown",
   "metadata": {
    "id": "uMLwIMBlhAcY"
   },
   "source": [
    "Очікуваний результат:"
   ]
  },
  {
   "cell_type": "markdown",
   "metadata": {
    "id": "yxrvqGnNhCsX"
   },
   "source": [
    "![](https://drive.google.com/uc?export=view&id=1Otufe_TXRmjZxWigzBiVBLCAVUfEReXM)"
   ]
  },
  {
   "cell_type": "markdown",
   "metadata": {
    "id": "2d54e0e4"
   },
   "source": [
    "3. Виведіть назви колонок у наборі даних разом з їхніми типами. Це можна зробити кількома способами, важливо аби в результаті були назви колонок і відповідні їм типи."
   ]
  },
  {
   "cell_type": "code",
   "execution_count": 14,
   "metadata": {},
   "outputs": [
    {
     "data": {
      "text/plain": [
       "Invoice ID                  object\n",
       "Branch                      object\n",
       "City                        object\n",
       "Customer type               object\n",
       "Gender                      object\n",
       "Product line                object\n",
       "Unit price                 float64\n",
       "Quantity                     int64\n",
       "Tax 5%                     float64\n",
       "Total                      float64\n",
       "Date                        object\n",
       "Time                        object\n",
       "Payment                     object\n",
       "cogs                       float64\n",
       "gross margin percentage    float64\n",
       "gross income               float64\n",
       "Rating                     float64\n",
       "dtype: object"
      ]
     },
     "execution_count": 14,
     "metadata": {},
     "output_type": "execute_result"
    }
   ],
   "source": [
    "df.dtypes"
   ]
  },
  {
   "cell_type": "markdown",
   "metadata": {
    "ExecuteTime": {
     "end_time": "2022-11-01T16:50:46.961201Z",
     "start_time": "2022-11-01T16:50:46.955894Z"
    },
    "id": "3c380f93"
   },
   "source": [
    "Очікуваний результат (один з можливих форматів):"
   ]
  },
  {
   "cell_type": "markdown",
   "metadata": {
    "id": "28f7beff"
   },
   "source": [
    "![](https://drive.google.com/uc?export=view&id=1ASh6-S-_f3X9fTQAPIvnHMFZamTBjNkL)"
   ]
  },
  {
   "cell_type": "markdown",
   "metadata": {
    "id": "aX2LEmuG8xyA"
   },
   "source": [
    "4. Користуючись методом `DataFrame.describe()` виявіть 1, 25, 50, 75 і 99 персентилі колонки `gross income`. Знайдіть, яке значення відповідає 75отму персентилю цієї колонки і що це означає? Як би Ви його пояснили простими словами колегам? Відповідь напишіть текстом в окремій клітинці типу Markdown."
   ]
  },
  {
   "cell_type": "code",
   "execution_count": 21,
   "metadata": {
    "id": "Paso6rPV894s"
   },
   "outputs": [
    {
     "data": {
      "text/plain": [
       "count    1000.00\n",
       "mean       15.38\n",
       "std        11.71\n",
       "min         0.51\n",
       "1%          0.91\n",
       "25%         5.92\n",
       "50%        12.09\n",
       "75%        22.45\n",
       "99%        45.25\n",
       "max        49.65\n",
       "Name: gross income, dtype: float64"
      ]
     },
     "execution_count": 21,
     "metadata": {},
     "output_type": "execute_result"
    }
   ],
   "source": [
    "percentiles = df['gross income'].describe(percentiles=[0.01, 0.25, 0.50, 0.75, 0.99]).round(2)\n",
    "percentiles"
   ]
  },
  {
   "cell_type": "markdown",
   "metadata": {},
   "source": [
    "Значення, що відповідає 75 персентилю, показує нам, що 75% значень в цій колонці менше цього числа і лише 25% більше. Це дозволяє нам зрозуміти де знаходиться верхня межа основної маси доходів."
   ]
  },
  {
   "cell_type": "markdown",
   "metadata": {
    "id": "HX-oXoo4jCuE"
   },
   "source": [
    "Очікуваний результат:"
   ]
  },
  {
   "cell_type": "markdown",
   "metadata": {
    "id": "Qi9Qi8LhjFRw"
   },
   "source": [
    "![](https://drive.google.com/uc?export=view&id=1bDa1YFUWDsPm78Lnpy2geQND8M1HEQiT)"
   ]
  },
  {
   "cell_type": "markdown",
   "metadata": {
    "id": "X2FWqJYr9Eul"
   },
   "source": [
    "5. Виведіть кількість інвойсів за кожним унікальним містом в наборі даних.\n",
    "\n",
    "  Підказка: інвойс - це один рядок в цьому наборі даних, ми можемо цим скористатись аби швидко отримати відповідь."
   ]
  },
  {
   "cell_type": "code",
   "execution_count": 40,
   "metadata": {
    "id": "StVtKfWY-13y"
   },
   "outputs": [
    {
     "data": {
      "text/plain": [
       "City\n",
       "Yangon       340\n",
       "Mandalay     332\n",
       "Naypyitaw    328\n",
       "Name: count, dtype: int64"
      ]
     },
     "execution_count": 40,
     "metadata": {},
     "output_type": "execute_result"
    }
   ],
   "source": [
    "invoices_per_city = df['City'].value_counts()\n",
    "invoices_per_city"
   ]
  },
  {
   "cell_type": "markdown",
   "metadata": {
    "id": "MxdJBddujhRx"
   },
   "source": [
    "Очікуваний результат:"
   ]
  },
  {
   "cell_type": "markdown",
   "metadata": {
    "id": "DGmeHKZYjoTp"
   },
   "source": [
    "![](https://drive.google.com/uc?export=view&id=1G8c6M875NOW7oU3OtZegTOnyD2y8lhAV)"
   ]
  },
  {
   "cell_type": "markdown",
   "metadata": {
    "id": "-k-yG_rR-3Og"
   },
   "source": [
    "6. Виведіть, який відсоток інвойсів припадає на кожне унікальне місто."
   ]
  },
  {
   "cell_type": "code",
   "execution_count": 41,
   "metadata": {
    "id": "_PBLxP7B_LdF"
   },
   "outputs": [
    {
     "data": {
      "text/plain": [
       "City\n",
       "Yangon       34.0\n",
       "Mandalay     33.2\n",
       "Naypyitaw    32.8\n",
       "Name: count, dtype: float64"
      ]
     },
     "execution_count": 41,
     "metadata": {},
     "output_type": "execute_result"
    }
   ],
   "source": [
    "total_invoices = df['City'].count()\n",
    "percentage_per_city = (invoices_per_city / total_invoices) * 100\n",
    "percentage_per_city"
   ]
  },
  {
   "cell_type": "markdown",
   "metadata": {
    "id": "hk_BB1Uxj_G5"
   },
   "source": [
    "Очікуваний результат:"
   ]
  },
  {
   "cell_type": "markdown",
   "metadata": {
    "id": "vAQ3z60ukBVG"
   },
   "source": [
    "![](https://drive.google.com/uc?export=view&id=1yZZpWhL2y8DX9rSRioYCRh1VbJgcf3fY)"
   ]
  },
  {
   "cell_type": "markdown",
   "metadata": {
    "id": "RUkVnzp_B5uZ"
   },
   "source": [
    "7.1. Використовуючи фільтрацію даних, знайдіть середнє значення `gross income` для міст `Yangon` та `Mandalay`. В якому місті воно більше?\n",
    "\n",
    "7.2 Сформулюйте 3 гіпотези, чому в одному місті gross income вище, як можна дізнатись чи правдива ця гіпотеза з використанням даних (наявних і додаткових), та як висновки з цих гіпотез можна використати для прийняття рішень як підвищити прибуток в мережі супермаркетів. Відповідь напишіть текстом в окремій клітинці типу Markdown.\n",
    "\n",
    "Це завдання - на продуктове мислення. Якщо не знаєте, які гіпотези сформулювати - напишіть ті, які здаються вам зовсім примітивними. Важливо навчитись висловлювати свої гіпотези щодо даних, і з часом та досвідом вони будуть ставати щоразу глибше і точніше. Весь аналіз даних будується на тому, що ми перевіряємо певні гіпотези та робимо висновки і рекоемндації на основі своїх досліджень."
   ]
  },
  {
   "cell_type": "code",
   "execution_count": 50,
   "metadata": {},
   "outputs": [
    {
     "name": "stdout",
     "output_type": "stream",
     "text": [
      "14.874001470588235 15.232024096385542\n"
     ]
    }
   ],
   "source": [
    "yangon_data = df.query(\"City == 'Yangon'\")\n",
    "mandalay_data = df.query(\"City == 'Mandalay'\")\n",
    "yangon_gross_income = yangon_data['gross income'].sum() / len(yangon_data)\n",
    "mandalay_gross_income = mandalay_data['gross income'].sum() / len(mandalay_data)\n",
    "print(yangon_gross_income, mandalay_gross_income)"
   ]
  },
  {
   "cell_type": "markdown",
   "metadata": {
    "id": "iXq3ODp1khy1"
   },
   "source": [
    "Очікуваний результат:"
   ]
  },
  {
   "cell_type": "markdown",
   "metadata": {
    "id": "4lcu3YwqkkF8"
   },
   "source": [
    "![](https://drive.google.com/uc?export=view&id=1JdXUmK46WcoXUJYP7NS2SJlr2XjBbpQ8)"
   ]
  },
  {
   "cell_type": "markdown",
   "metadata": {},
   "source": [
    "7.2\n",
    "1. Гіпотеза - у місті з вищим середнім прибутком більша кількість магазинів мережі і завдяки цьому більша кількість покупців. Це можна легко перевірити переглянувши інформацію щодо кількості магазинів у обох містах. Вихідні дані можна використати для прийняття рішення щодо потреби відкриття більшої кількості магазинів у другому місті.\n",
    "2. Гіпотеза - у місті з вищим середнім прибутком вищий рівень життя та доходів населення, що дозволяє їм загалом витрачати більше грошей. Можна перевірити отримавши дані про середній дохід мешканців міст та порівняти їх між собою. Це можуть бути статистичні дані місцевого уряду або опитування користувачів магазинів у двох містах.\n",
    "3. Гіпотеза -  різні рекламні кампанії двох міст змінють середній прибуток магазинів у цих містах. Щоб це перевірити, можна зібрати дані про витрати на рекламу та акції, а потім провести аналіз цих витрат поділений на кількість реклами з середнім прибутком магазину. Це допоможе зрозуміти які акції та реклами працюють краще для якого міста та змінити їх за потреби."
   ]
  },
  {
   "cell_type": "markdown",
   "metadata": {
    "id": "wNMcnnPQOrwb"
   },
   "source": [
    "8. Для продовження дослідження різниці у прибутках в магазинах давайте зʼясуємо, чи відрізняється маржа ('gross margin percentage') для різних інвойсів в магазині? Перевірте це програмно на даних виходячи з того функціоналу, який ми вже пройшли у лекціях.\n",
    "\n",
    "Дайте на основі отриманого результату відповідь: \"У всіх всіх інвойсах однакова маржа\" або \"Маржа відрізняється для різних інвойсів\"."
   ]
  },
  {
   "cell_type": "code",
   "execution_count": 35,
   "metadata": {
    "id": "mTWYzSVaPNsb"
   },
   "outputs": [
    {
     "name": "stdout",
     "output_type": "stream",
     "text": [
      "У всіх інвойсах однакова маржа.\n"
     ]
    }
   ],
   "source": [
    "unique_margin_values = df['gross margin percentage'].nunique()\n",
    "if unique_margin_values == 1:\n",
    "    print(\"У всіх інвойсах однакова маржа.\")\n",
    "else:\n",
    "    print(\"Маржа відрізняється для різних інвойсів.\")"
   ]
  },
  {
   "cell_type": "markdown",
   "metadata": {
    "id": "YXlTdvOtnYPr"
   },
   "source": [
    "Очікуваний результат: відповідь щодо маржі в усіх інвойсах на основі отриманих результатів"
   ]
  },
  {
   "cell_type": "markdown",
   "metadata": {
    "id": "NF3oAHQOOSN5"
   },
   "source": [
    "9. Врахуовуючи висновок в попередньому завданні, дослідимо як продаються в цих містах різні категорії товарів. Виведіть відсотковий розпоіділ кількості інвойсів по категоріям товарів `Product line` в містах `Yangon` та `Mandalay`."
   ]
  },
  {
   "cell_type": "code",
   "execution_count": 55,
   "metadata": {
    "id": "nUgdZmbzQDo4"
   },
   "outputs": [
    {
     "name": "stdout",
     "output_type": "stream",
     "text": [
      "Відсотковий розподіл кількості інвойсів по категоріям товарів у місті Yangon:\n",
      "Product line\n",
      "Home and lifestyle        19.117647\n",
      "Electronic accessories    17.647059\n",
      "Sports and travel         17.352941\n",
      "Food and beverages        17.058824\n",
      "Fashion accessories       15.000000\n",
      "Health and beauty         13.823529\n",
      "Name: proportion, dtype: float64\n",
      "\n",
      "Відсотковий розподіл кількості інвойсів по категоріям товарів у місті Mandalay:\n",
      "Product line\n",
      "Fashion accessories       18.674699\n",
      "Sports and travel         18.674699\n",
      "Electronic accessories    16.566265\n",
      "Health and beauty         15.963855\n",
      "Food and beverages        15.060241\n",
      "Home and lifestyle        15.060241\n",
      "Name: proportion, dtype: float64\n"
     ]
    }
   ],
   "source": [
    "yangon_data = df[df['City'] == 'Yangon']\n",
    "mandalay_data = df[df['City'] == 'Mandalay']\n",
    "yangon_category_counts = yangon_data['Product line'].value_counts(normalize=True) * 100\n",
    "mandalay_category_counts = mandalay_data['Product line'].value_counts(normalize=True) * 100\n",
    "print(\"Відсотковий розподіл кількості інвойсів по категоріям товарів у місті Yangon:\")\n",
    "print(yangon_category_counts)\n",
    "print(\"\\nВідсотковий розподіл кількості інвойсів по категоріям товарів у місті Mandalay:\")\n",
    "print(mandalay_category_counts)"
   ]
  },
  {
   "cell_type": "markdown",
   "metadata": {
    "id": "vFhFKSl7meGY"
   },
   "source": [
    "Очікуваний результат для кожного з міст:"
   ]
  },
  {
   "cell_type": "markdown",
   "metadata": {
    "id": "pzpOAqu1miuo"
   },
   "source": [
    "![](https://drive.google.com/uc?export=view&id=1IbG58YK5KVqC-wCnllF1btgEgfWTbi_O)"
   ]
  },
  {
   "cell_type": "markdown",
   "metadata": {
    "id": "imwzMiV4mrXn"
   },
   "source": [
    "![](https://drive.google.com/uc?export=view&id=1aKOkLmlMq1sOh4GbwyaQyjfhNJzdU4Yh)"
   ]
  }
 ],
 "metadata": {
  "colab": {
   "provenance": []
  },
  "kernelspec": {
   "display_name": "Python 3 (ipykernel)",
   "language": "python",
   "name": "python3"
  },
  "language_info": {
   "codemirror_mode": {
    "name": "ipython",
    "version": 3
   },
   "file_extension": ".py",
   "mimetype": "text/x-python",
   "name": "python",
   "nbconvert_exporter": "python",
   "pygments_lexer": "ipython3",
   "version": "3.12.4"
  }
 },
 "nbformat": 4,
 "nbformat_minor": 4
}
