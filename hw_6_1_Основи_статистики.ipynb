{
 "cells": [
  {
   "cell_type": "markdown",
   "metadata": {
    "id": "SDhaTqxcWhnP"
   },
   "source": [
    "В цьому домашньому завданні відпрацюємо з вами знання, отримані в модулі зі статистики.\n",
    "\n",
    "**Завдання 1.** Ми обговорили з Вами на лекції, що велика літера Сігма грецького алфавіту позначає в математиці суму. Знайдіть з використанням Python $\\Sigma x$, $\\Sigma x^2$, та $\\Sigma (x-1)^2$ для наступного набору даних:\n",
    "`1 3 4`\n",
    "Виведіть результат кожного обчислення на екран."
   ]
  },
  {
   "cell_type": "code",
   "execution_count": 3,
   "metadata": {
    "id": "B1mgx_IBT0e8"
   },
   "outputs": [
    {
     "data": {
      "text/plain": [
       "(8, 26, 13)"
      ]
     },
     "execution_count": 3,
     "metadata": {},
     "output_type": "execute_result"
    }
   ],
   "source": [
    "import numpy as np\n",
    "\n",
    "data = np.array([1, 3, 4])\n",
    "\n",
    "sum_x = np.sum(data)\n",
    "\n",
    "sum_x_squared = np.sum(data**2)\n",
    "\n",
    "sum_x_minus_1_squared = np.sum((data - 1)**2)\n",
    "\n",
    "sum_x, sum_x_squared, sum_x_minus_1_squared"
   ]
  },
  {
   "cell_type": "markdown",
   "metadata": {
    "id": "fa78aW5lhiia"
   },
   "source": [
    "**Завдання 2.** Ми зібрали дані про суму покупок в гривнях 20ма випадково обраними клієнтами в нашому магазині (всього клієнтів у нас більше) за минулий місяць. Вони представлені в змінній `sum_purchases`. Знайдіть **вибіркове середнє** для цих даних кожним з зазначених методів:   \n",
    "\n",
    "  2.1. без використання жодних бібліотек, користуючись тільки Python.  \n",
    "  2.2. використовуючи відповідний метод бібліотеки `numpy`.\n",
    "\n",
    "  Виведіть результат обчислень в кожному з випадків на екран та порівняйте результати. Вони співпадають?"
   ]
  },
  {
   "cell_type": "code",
   "execution_count": 5,
   "metadata": {
    "id": "_9kMt3rq6V5m"
   },
   "outputs": [],
   "source": [
    "sum_purchases = [ 316,  493,  367,  153,  224,  121,  322,  450,  196,  397,  281,\n",
    "  239,  484,  124,  223,  448,  432,  255, 4310, 3524]"
   ]
  },
  {
   "cell_type": "code",
   "execution_count": 6,
   "metadata": {
    "id": "wPmL919HT1c0"
   },
   "outputs": [
    {
     "data": {
      "text/plain": [
       "(667.95, 667.95)"
      ]
     },
     "execution_count": 6,
     "metadata": {},
     "output_type": "execute_result"
    }
   ],
   "source": [
    "mean_manual = sum(sum_purchases) / len(sum_purchases)\n",
    "\n",
    "mean_numpy = np.mean(sum_purchases)\n",
    "\n",
    "mean_manual, mean_numpy"
   ]
  },
  {
   "cell_type": "markdown",
   "metadata": {
    "id": "FMdoxZd0kZdW"
   },
   "source": [
    "**Завдання 3.** Для того ж набору даних в змінній `sum_purchases` обчисліть **медіану** кожним з зазначених методів:  \n",
    "\n",
    "  3.1. без використання жодних бібліотек, користуючись тільки Python.  \n",
    "  3.2. використовуючи відповідний метод бібліотеки numpy.  \n",
    "\n",
    "Виведіть результат обчислень в кожному з випадків на екран. Порівняйте результати зі значенням вибіркового середнього. Напишіть коментар, для яких задач ви б використовували вибіркове середнє, а для яких - медіану?"
   ]
  },
  {
   "cell_type": "code",
   "execution_count": 7,
   "metadata": {
    "id": "x58BumvuT2nl"
   },
   "outputs": [
    {
     "data": {
      "text/plain": [
       "(319.0, 319.0)"
      ]
     },
     "execution_count": 7,
     "metadata": {},
     "output_type": "execute_result"
    }
   ],
   "source": [
    "sorted_purchases = sorted(sum_purchases)\n",
    "n = len(sorted_purchases)\n",
    "\n",
    "if n % 2 == 0:\n",
    "    median_manual = (sorted_purchases[n//2 - 1] + sorted_purchases[n//2]) / 2\n",
    "else:\n",
    "    median_manual = sorted_purchases[n//2]\n",
    "\n",
    "median_numpy = np.median(sum_purchases)\n",
    "\n",
    "median_manual, median_numpy"
   ]
  },
  {
   "cell_type": "markdown",
   "metadata": {},
   "source": [
    "Вибіркове середнє є середнім арифметичним, що враховує всі значення. Однак, якщо дані містять викиди, середнє може бути сильно зміщеним у бік цих викидів. Медіана є середнім значенням, яке розділяє впорядкований набір даних на дві рівні частини. Вона менш чутлива до викидів, тому забезпечує більш стабільну оцінку центральної тенденції в наборах даних з екстремальними значеннями.\n",
    "\n",
    "Для набору даних sum_purchases, що містить значні викиди (такі як 4310 і 3524), медіана, ймовірно, буде суттєво меншою за вибіркове середнє, оскільки останнє зміщене через великі значення.\n",
    "\n",
    "Вибіркове середнє корисне для даних, які не містять викидів, або коли важливим є врахування всіх значень, наприклад, коли потрібно обчислити середній дохід чи середню кількість продажів.\n",
    "Медіану варто використовувати, коли дані містять викиди або є нерівномірно розподіленими. Наприклад, при аналізі заробітної плати в групі людей, де є кілька високоплачуваних працівників, або при оцінці цін на житло, де також є сильні коливання."
   ]
  },
  {
   "cell_type": "markdown",
   "metadata": {
    "id": "o1Z7az2yNDQV"
   },
   "source": [
    "**Завдання 4**. Обчислість стандартне відхилення наведеної вибірки в змінній `sum_purchases` кожним з зазначених методів:  \n",
    "\n",
    "  4.1. без використання жодних бібліотек, користуючись тільки Python.  \n",
    "  4.2. використовуючи відповідний метод бібліотеки numpy.  \n",
    "\n",
    "Виведіть результат обчислень в кожному з випадків на екран."
   ]
  },
  {
   "cell_type": "code",
   "execution_count": 8,
   "metadata": {
    "id": "X4ixtmL2T642",
    "scrolled": true
   },
   "outputs": [
    {
     "data": {
      "text/plain": [
       "(1096.0692713054227, 1096.0692713054227)"
      ]
     },
     "execution_count": 8,
     "metadata": {},
     "output_type": "execute_result"
    }
   ],
   "source": [
    "mean_manual = sum(sum_purchases) / len(sum_purchases)\n",
    "variance_manual = sum((x - mean_manual) ** 2 for x in sum_purchases) / len(sum_purchases)\n",
    "std_dev_manual = variance_manual ** 0.5\n",
    "\n",
    "std_dev_numpy = np.std(sum_purchases)\n",
    "\n",
    "std_dev_manual, std_dev_numpy"
   ]
  },
  {
   "cell_type": "markdown",
   "metadata": {
    "id": "M1ntKTjXLVlH"
   },
   "source": [
    "**Завдання 5**. Ми провели дослідження віку студентів-першокурсників. Виявилось, що\n",
    "- 10 студентів мають вік 16 років\n",
    "- 25 студентів - 17 років\n",
    "- 20 студентів - 18 років\n",
    "- 2 студенти - 20 років\n",
    "\n",
    "Обчислість середнє значення для цієї вибірки будь-яким способом - на чистому Python або з numpy - та виведіть результат на екран."
   ]
  },
  {
   "cell_type": "code",
   "execution_count": 12,
   "metadata": {
    "id": "RdIU4M-7T8R4"
   },
   "outputs": [
    {
     "data": {
      "text/plain": [
       "17.28"
      ]
     },
     "execution_count": 12,
     "metadata": {},
     "output_type": "execute_result"
    }
   ],
   "source": [
    "ages = [16, 17, 18, 20]\n",
    "counts = [10, 25, 20, 2]\n",
    "\n",
    "total_students = sum(counts)\n",
    "total_age_sum = sum(age * count for age, count in zip(ages, counts))\n",
    "mean_age = total_age_sum / total_students\n",
    "\n",
    "round(mean_age, 2)"
   ]
  },
  {
   "cell_type": "markdown",
   "metadata": {
    "id": "Xx8MFkkVM53z"
   },
   "source": [
    "**Завдання 6**. Крім даних про суму покупок, ми зібрали ще дані про кількість відвідувань кожного з кожного покупця, які знаходяться в змінній `visits`. Обчисліть коефіцієнт кореляції Пірсона для суми покупок і кількості відвідувань кожним з зазначених методів:  \n",
    "\n",
    "  6.1. без використання жодних бібліотек, користуючись тільки Python.  \n",
    "  6.2. використовуючи відповідний метод бібліотеки numpy.  \n",
    "  \n",
    "Виведіть результат на екран. Проаналізуйте результат.\n",
    "\n",
    "Виведіть додатково графік розсіювання викликавши код нижче і зробіть заключення, чи варто щось змінити при підрахунку кореляції, аби коефіцієнт Пірсона показував коректну оцінку лінійної залежності?"
   ]
  },
  {
   "cell_type": "code",
   "execution_count": 22,
   "metadata": {
    "id": "4OIGBT7UOWhO"
   },
   "outputs": [],
   "source": [
    "visits = [ 6,  2, 10,  3,  9,  9,  2,  3,  6,  6, 10,  2,  5, 10,  3,  5,  4,\n",
    "        7,  4,  2]"
   ]
  },
  {
   "cell_type": "code",
   "execution_count": 23,
   "metadata": {
    "id": "YLNF7VbeT97Q"
   },
   "outputs": [
    {
     "data": {
      "text/plain": [
       "-0.30265844687666454"
      ]
     },
     "execution_count": 23,
     "metadata": {},
     "output_type": "execute_result"
    }
   ],
   "source": [
    "# Результат без використання numpy\n",
    "\n",
    "mean_purchases = sum(sum_purchases) / len(sum_purchases)\n",
    "mean_visits = sum(visits) / len(visits)\n",
    "\n",
    "numerator = sum((p - mean_purchases) * (v - mean_visits) for p, v in zip(sum_purchases, visits))\n",
    "denominator_purchases = sum((p - mean_purchases) ** 2 for p in sum_purchases) ** 0.5\n",
    "denominator_visits = sum((v - mean_visits) ** 2 for v in visits) ** 0.5\n",
    "correlation_manual = numerator / (denominator_purchases * denominator_visits)\n",
    "\n",
    "correlation_manual"
   ]
  },
  {
   "cell_type": "code",
   "execution_count": 24,
   "metadata": {},
   "outputs": [
    {
     "data": {
      "text/plain": [
       "-0.3026584468766646"
      ]
     },
     "execution_count": 24,
     "metadata": {},
     "output_type": "execute_result"
    }
   ],
   "source": [
    "# Результат з використанням numpy\n",
    "\n",
    "correlation_numpy = np.corrcoef(sum_purchases, visits)[0, 1]\n",
    "correlation_numpy"
   ]
  },
  {
   "cell_type": "code",
   "execution_count": 20,
   "metadata": {
    "colab": {
     "base_uri": "https://localhost:8080/",
     "height": 472
    },
    "id": "gaeoGA-5Prr1",
    "outputId": "0c910a7f-0e96-449a-881d-1efa453b3c8d",
    "scrolled": true
   },
   "outputs": [
    {
     "data": {
      "image/png": "[encoded data removed]",
      "text/plain": [
       "<Figure size 640x480 with 1 Axes>"
      ]
     },
     "metadata": {},
     "output_type": "display_data"
    }
   ],
   "source": [
    "import matplotlib.pyplot as plt\n",
    "\n",
    "plt.scatter(sum_purchases, visits)\n",
    "plt.title('Scatter Plot of Purchases vs. Visits')\n",
    "plt.xlabel('Sum of Purchases')\n",
    "plt.ylabel('Number of Visits');"
   ]
  },
  {
   "cell_type": "code",
   "execution_count": null,
   "metadata": {},
   "outputs": [],
   "source": []
  },
  {
   "cell_type": "markdown",
   "metadata": {
    "id": "Yj3Yfaf7UBbc"
   },
   "source": [
    "Для оцінки коректності коефіцієнта Пірсона варто перевірити наявність впливових точок або викидів у наборі даних, оскільки вони можуть значно спотворювати результат. Зокрема, високі значення, такі як 4310 і 3524 у sum_purchases, можуть діяти як викиди, які впливають на кореляцію.\n",
    "\n",
    "Можна видалити або обмежити впливові точки, які ми уважаємо за викиди."
   ]
  },
  {
   "cell_type": "markdown",
   "metadata": {
    "id": "4pEg0KzSQ6KA"
   },
   "source": [
    "**Завдання 7**. В попередньому завданні ми помітили, що викиди нам заважають отримати \"правдиве\" значення кореляції. Давайте вилучимо записи, які відповідають значенням з викидами в сумі покупок і обчисліть коеф. кореляції. Для цього поставте `threshold`, який дорінює середньому значенню + 2 стандартних вдіхилля суми покупок і всі значення, які більше за нього, будемо вважати викидами (є і інші правила для визначення викидів - з ним и познайомимось пізніше).\n",
    "\n",
    "Вилучіть значення з обох масивів і обчисліть коеф. кореляції Пірсона з допомогою `numpy` для кількості візитів і суми покупок без записів-викидів. Виведіть результат на екран, побудуйте діаграму розсіювання і проаналізуйте результат: що можемо сказати про залежність в даних?"
   ]
  },
  {
   "cell_type": "code",
   "execution_count": 25,
   "metadata": {},
   "outputs": [
    {
     "data": {
      "image/png": "[encoded data removed]",
      "text/plain": [
       "<Figure size 640x480 with 1 Axes>"
      ]
     },
     "metadata": {},
     "output_type": "display_data"
    },
    {
     "data": {
      "text/plain": [
       "-0.3685212078127798"
      ]
     },
     "execution_count": 25,
     "metadata": {},
     "output_type": "execute_result"
    }
   ],
   "source": [
    "# Тут я спочатку обчислила середнє та стандартне відхилення для суми покупок і задала порогове значення для виявлення викидів\n",
    "mean_sum_purchases = np.mean(sum_purchases)\n",
    "std_sum_purchases = np.std(sum_purchases)\n",
    "threshold = mean_sum_purchases + 2 * std_sum_purchases\n",
    "\n",
    "# Відфільтрувала значення без викидів в обох масивах\n",
    "filtered_purchases = []\n",
    "filtered_visits = []\n",
    "\n",
    "for purchase, visit in zip(sum_purchases, visits):\n",
    "    if purchase <= threshold:\n",
    "        filtered_purchases.append(purchase)\n",
    "        filtered_visits.append(visit)\n",
    "\n",
    "# Обчислила коефіцієнт кореляції для відфільтрованих даних\n",
    "correlation_filtered = np.corrcoef(filtered_purchases, filtered_visits)[0, 1]\n",
    "\n",
    "# І в кінці вже побудовала графік розсіювання для відфільтрованих даних\n",
    "plt.scatter(filtered_purchases, filtered_visits)\n",
    "plt.title('Scatter Plot of Filtered Purchases vs. Visits')\n",
    "plt.xlabel('Filtered Sum of Purchases')\n",
    "plt.ylabel('Number of Visits')\n",
    "plt.show()\n",
    "\n",
    "correlation_filtered"
   ]
  }
 ],
 "metadata": {
  "colab": {
   "provenance": []
  },
  "kernelspec": {
   "display_name": "Python 3 (ipykernel)",
   "language": "python",
   "name": "python3"
  },
  "language_info": {
   "codemirror_mode": {
    "name": "ipython",
    "version": 3
   },
   "file_extension": ".py",
   "mimetype": "text/x-python",
   "name": "python",
   "nbconvert_exporter": "python",
   "pygments_lexer": "ipython3",
   "version": "3.12.4"
  }
 },
 "nbformat": 4,
 "nbformat_minor": 4
}
